{
 "cells": [
  {
   "cell_type": "markdown",
   "metadata": {},
   "source": [
    "Python我透過過去修課與coursera自學，搭配老師上課講義寫此作業。\n",
    "\n",
    "首先叫入numpy和math模組"
   ]
  },
  {
   "cell_type": "code",
   "execution_count": 1,
   "metadata": {},
   "outputs": [],
   "source": [
    "import pandas as pd\n",
    "import math"
   ]
  },
  {
   "cell_type": "markdown",
   "metadata": {},
   "source": [
    "我們要請使用者輸入本金、年數、年利率並將其分別變為整數和浮點數"
   ]
  },
  {
   "cell_type": "code",
   "execution_count": 2,
   "metadata": {},
   "outputs": [
    {
     "name": "stdout",
     "output_type": "stream",
     "text": [
      "請輸入本金: 250000\n",
      "請輸入年數: 15\n",
      "請輸入年利率(%): 8\n"
     ]
    }
   ],
   "source": [
    "x = int(input('請輸入本金: '))\n",
    "y = int(input('請輸入年數: '))\n",
    "r = float(input('請輸入年利率(%): '))"
   ]
  },
  {
   "cell_type": "markdown",
   "metadata": {},
   "source": [
    "計算每期攤還本金並無條件進位，最後一期應繳本金為總本金扣除之前已繳本金的總額"
   ]
  },
  {
   "cell_type": "code",
   "execution_count": 3,
   "metadata": {},
   "outputs": [],
   "source": [
    "c = math.ceil(x/y/12)\n",
    "listc = [c]*y*12\n",
    "listc[y*12-1] = x - c*(y*12-1)"
   ]
  },
  {
   "cell_type": "markdown",
   "metadata": {},
   "source": [
    "為了跑迴圈計算每期應繳利息與累積本金和，我創立listr串列放每期利息、listt放置累積每期本利和，另外創建期數指引串列方便表格呈現"
   ]
  },
  {
   "cell_type": "code",
   "execution_count": 4,
   "metadata": {},
   "outputs": [],
   "source": [
    "listr = [0]*y*12\n",
    "listt = [0]*y*12\n",
    "ind = [0]*y*12"
   ]
  },
  {
   "cell_type": "markdown",
   "metadata": {},
   "source": [
    "利用迴圈計算每期利息，第一期直接以本金乘以年利率除12，其後依序扣除累積已繳本金來計算每期利息，其中每期利息我用條件子句四捨五入。每期累積本利合則是這期本利和加上上期累積本利和，期數指引則讓迴圈數字自動建立"
   ]
  },
  {
   "cell_type": "code",
   "execution_count": 5,
   "metadata": {},
   "outputs": [],
   "source": [
    "for i in range(y*12):\n",
    "    listr[i] = (x-c*i) * r*0.01/12\n",
    "    if listr[i] - int(listr[i]) <= 0.4:\n",
    "        listr[i] = int(listr[i])\n",
    "    else:\n",
    "        listr[i] = int(listr[i])+1\n",
    "    listt[i] += listr[i] + listc[i] + listt[i-1]\n",
    "    ind[i] = str('第'+str(i+1)+'期')"
   ]
  },
  {
   "cell_type": "markdown",
   "metadata": {},
   "source": [
    "最後我將listc, listr, listt三個串列分別以pandas模組變成dataframe，索引(index)使用迴圈建立的ind串列，再將三者合併成整個表格印出"
   ]
  },
  {
   "cell_type": "code",
   "execution_count": 6,
   "metadata": {},
   "outputs": [
    {
     "name": "stdout",
     "output_type": "stream",
     "text": [
      "       本金(元)  利息(元)  本金利息累計(元)\n",
      "第1期     1389   1667       3056\n",
      "第2期     1389   1658       6103\n",
      "第3期     1389   1648       9140\n",
      "第4期     1389   1639      12168\n",
      "第5期     1389   1630      15187\n",
      "第6期     1389   1620      18196\n",
      "第7期     1389   1611      21196\n",
      "第8期     1389   1602      24187\n",
      "第9期     1389   1593      27169\n",
      "第10期    1389   1583      30141\n",
      "第11期    1389   1574      33104\n",
      "第12期    1389   1565      36058\n",
      "第13期    1389   1556      39003\n",
      "第14期    1389   1546      41938\n",
      "第15期    1389   1537      44864\n",
      "第16期    1389   1528      47781\n",
      "第17期    1389   1519      50689\n",
      "第18期    1389   1509      53587\n",
      "第19期    1389   1500      56476\n",
      "第20期    1389   1491      59356\n",
      "第21期    1389   1482      62227\n",
      "第22期    1389   1472      65088\n",
      "第23期    1389   1463      67940\n",
      "第24期    1389   1454      70783\n",
      "第25期    1389   1445      73617\n",
      "第26期    1389   1435      76441\n",
      "第27期    1389   1426      79256\n",
      "第28期    1389   1417      82062\n",
      "第29期    1389   1407      84858\n",
      "第30期    1389   1398      87645\n",
      "...      ...    ...        ...\n",
      "第151期   1389    278     356552\n",
      "第152期   1389    269     358210\n",
      "第153期   1389    259     359858\n",
      "第154期   1389    250     361497\n",
      "第155期   1389    241     363127\n",
      "第156期   1389    231     364747\n",
      "第157期   1389    222     366358\n",
      "第158期   1389    213     367960\n",
      "第159期   1389    204     369553\n",
      "第160期   1389    194     371136\n",
      "第161期   1389    185     372710\n",
      "第162期   1389    176     374275\n",
      "第163期   1389    167     375831\n",
      "第164期   1389    157     377377\n",
      "第165期   1389    148     378914\n",
      "第166期   1389    139     380442\n",
      "第167期   1389    130     381961\n",
      "第168期   1389    120     383470\n",
      "第169期   1389    111     384970\n",
      "第170期   1389    102     386461\n",
      "第171期   1389     93     387943\n",
      "第172期   1389     83     389415\n",
      "第173期   1389     74     390878\n",
      "第174期   1389     65     392332\n",
      "第175期   1389     56     393777\n",
      "第176期   1389     46     395212\n",
      "第177期   1389     37     396638\n",
      "第178期   1389     28     398055\n",
      "第179期   1389     18     399462\n",
      "第180期   1369      9     400840\n",
      "\n",
      "[180 rows x 3 columns]\n"
     ]
    }
   ],
   "source": [
    "c1 = pd.DataFrame(listc, columns=[\"本金(元)\"], index=ind)\n",
    "c2 = pd.DataFrame(listr, columns=[\"利息(元)\"], index=ind)\n",
    "c3 = pd.DataFrame(listt, columns=[\"本金利息累計(元)\"], index=ind)\n",
    "df = pd.concat([c1,c2,c3], axis=1)\n",
    "print(df)"
   ]
  }
 ],
 "metadata": {
  "kernelspec": {
   "display_name": "Python 3",
   "language": "python",
   "name": "python3"
  },
  "language_info": {
   "codemirror_mode": {
    "name": "ipython",
    "version": 3
   },
   "file_extension": ".py",
   "mimetype": "text/x-python",
   "name": "python",
   "nbconvert_exporter": "python",
   "pygments_lexer": "ipython3",
   "version": "3.7.0"
  }
 },
 "nbformat": 4,
 "nbformat_minor": 2
}
