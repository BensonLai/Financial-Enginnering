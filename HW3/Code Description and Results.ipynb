{
 "cells": [
  {
   "cell_type": "markdown",
   "metadata": {},
   "source": [
    "首先請使用者輸入股票價格、執行價格(strike price)、無風險利率、期數"
   ]
  },
  {
   "cell_type": "code",
   "execution_count": 1,
   "metadata": {},
   "outputs": [
    {
     "name": "stdout",
     "output_type": "stream",
     "text": [
      "Stock Price: 160\n",
      "Strike Price: 150\n",
      "Riskless Interest Rate(%): 18.232\n",
      "Time Periods: 3\n"
     ]
    }
   ],
   "source": [
    "import math\n",
    "\n",
    "s = int(input('Stock Price: '))\n",
    "x = int(input('Strike Price: '))\n",
    "r = float(input('Riskless Interest Rate(%): '))/100\n",
    "T = int(input('Time Periods: ')) + 1"
   ]
  },
  {
   "cell_type": "markdown",
   "metadata": {},
   "source": [
    "計算債券獲利(R)以及給定股票上漲下跌幅度50%，即可計算風險中性機率。\n",
    "為了以防機率為負或大於1，我寫了條件子句保證機率介於0和1之間。"
   ]
  },
  {
   "cell_type": "code",
   "execution_count": 2,
   "metadata": {},
   "outputs": [],
   "source": [
    "R = math.exp(r)\n",
    "R2 = math.exp(-r)\n",
    "u = 1.5\n",
    "d = 0.5\n",
    "p = (R - d)/(u - d) #risk-neutral probability\n",
    "if p < 0:\n",
    "    p = 0\n",
    "if p > 1:\n",
    "    p = 1"
   ]
  },
  {
   "cell_type": "markdown",
   "metadata": {},
   "source": [
    "設一個買權(call)的二維陣列，利用一個雙層迴圈可以依序計算未來股票價格並儲存到其中。由於我的陣列維度都相同，陣列第一層只有第一項有值，第二層只有前兩項有值，依此類推(可以參考我印出的call結果)。"
   ]
  },
  {
   "cell_type": "code",
   "execution_count": 3,
   "metadata": {},
   "outputs": [
    {
     "name": "stdout",
     "output_type": "stream",
     "text": [
      "[[160.0, 0, 0, 0], [240.0, 80.0, 0, 0], [360.0, 120.0, 40.0, 0], [540.0, 180.0, 60.0, 20.0]]\n"
     ]
    }
   ],
   "source": [
    "call = [[0]*T for i in range(T)]\n",
    "for i in range(T):\n",
    "    for j in range(i+1):\n",
    "        call[i][j] = s * u**(i-j) * d**j\n",
    "print(call)"
   ]
  },
  {
   "cell_type": "markdown",
   "metadata": {},
   "source": [
    "有了每期的股票價格，就可以用倒推求解現在的選擇權價格。從最後一期倒推時我們要在報酬跟0之間取大的值，往前推算就可以用投影片中的公式，依序把後一期的兩個股票價格以機率加權反算，一直到現在的價格，最後印出陣列第一層的第一個值即為我們要的選擇權價格。"
   ]
  },
  {
   "cell_type": "code",
   "execution_count": 4,
   "metadata": {},
   "outputs": [
    {
     "name": "stdout",
     "output_type": "stream",
     "text": [
      "85.06922876361149\n"
     ]
    }
   ],
   "source": [
    "f = [[0]*T for i in range(T)]\n",
    "for i in range(T):\n",
    "    for j in range(T):\n",
    "        if i == 0:\n",
    "            f[T-i-1][j] = max(call[T-i-1][j] - x, 0)\n",
    "        elif j+1 <= T-1:\n",
    "            f[T-i-1][j] = (p*f[T-i][j] + (1-p)*f[T-i][j+1])*R2\n",
    "\n",
    "print(f[0][0])"
   ]
  }
 ],
 "metadata": {
  "kernelspec": {
   "display_name": "Python 3",
   "language": "python",
   "name": "python3"
  },
  "language_info": {
   "codemirror_mode": {
    "name": "ipython",
    "version": 3
   },
   "file_extension": ".py",
   "mimetype": "text/x-python",
   "name": "python",
   "nbconvert_exporter": "python",
   "pygments_lexer": "ipython3",
   "version": "3.7.0"
  }
 },
 "nbformat": 4,
 "nbformat_minor": 2
}
