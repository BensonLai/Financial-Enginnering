{
 "cells": [
  {
   "cell_type": "markdown",
   "metadata": {},
   "source": [
    "匯入模組。請使用者輸入流程圖中相關的資訊"
   ]
  },
  {
   "cell_type": "code",
   "execution_count": 1,
   "metadata": {},
   "outputs": [
    {
     "name": "stdout",
     "output_type": "stream",
     "text": [
      "current stock price: 75\n",
      "strike price: 65\n",
      "variation: 0.35\n",
      "dividend amount: 1\n",
      "ex-dividend month: 1\n",
      "dividend amount: 1\n",
      "ex-dividend month: 4\n",
      "riskless interest rate(%): 6\n",
      "mature period: 6\n"
     ]
    }
   ],
   "source": [
    "from scipy.stats import norm\n",
    "import math\n",
    "\n",
    "s = float(input('current stock price: '))\n",
    "x = int(input('strike price: '))\n",
    "sigma = float(input('variation: '))\n",
    "div1 = int(input('dividend amount: '))\n",
    "div1_mon = int(input('ex-dividend month: '))\n",
    "div2 = int(input('dividend amount: '))\n",
    "div2_mon = int(input('ex-dividend month: '))\n",
    "r = float(input('riskless interest rate(%): '))/100\n",
    "T = float(input('mature period: '))\n",
    "#R = math.exp(r)"
   ]
  },
  {
   "cell_type": "markdown",
   "metadata": {},
   "source": [
    "計算股利折現值並將其從股票價值中扣除。接著計算d1和d2"
   ]
  },
  {
   "cell_type": "code",
   "execution_count": 2,
   "metadata": {},
   "outputs": [],
   "source": [
    "D = div1*math.exp(-r*(div1_mon/12)) + div2*math.exp(-r*(div2_mon/12))\n",
    "s_hat = s - D\n",
    "d1 = (math.log(s_hat/x) + (r+sigma**2/2)*(T/12)) / (sigma * (T/12)**0.5)\n",
    "d2 = d1 - sigma * (T/12)**0.5"
   ]
  },
  {
   "cell_type": "markdown",
   "metadata": {},
   "source": [
    "輸入完整的Black-Scholes定價公式"
   ]
  },
  {
   "cell_type": "code",
   "execution_count": 3,
   "metadata": {},
   "outputs": [],
   "source": [
    "c = s_hat*norm.cdf(d1) - x*math.exp(-r*(T/12))*norm.cdf(d2)\n",
    "p = x*math.exp(-r*(T/12))*norm.cdf(-d2) - s_hat*norm.cdf(-d1)"
   ]
  },
  {
   "cell_type": "markdown",
   "metadata": {},
   "source": [
    "即可印出合理的買權及賣權價格"
   ]
  },
  {
   "cell_type": "code",
   "execution_count": 4,
   "metadata": {},
   "outputs": [
    {
     "name": "stdout",
     "output_type": "stream",
     "text": [
      "The call price is: 12.806183806810672\n",
      "The put price is: 2.8603546399631448\n"
     ]
    }
   ],
   "source": [
    "print('The call price is:', c)\n",
    "print('The put price is:', p)"
   ]
  }
 ],
 "metadata": {
  "kernelspec": {
   "display_name": "Python 3",
   "language": "python",
   "name": "python3"
  },
  "language_info": {
   "codemirror_mode": {
    "name": "ipython",
    "version": 3
   },
   "file_extension": ".py",
   "mimetype": "text/x-python",
   "name": "python",
   "nbconvert_exporter": "python",
   "pygments_lexer": "ipython3",
   "version": "3.7.0"
  }
 },
 "nbformat": 4,
 "nbformat_minor": 2
}
