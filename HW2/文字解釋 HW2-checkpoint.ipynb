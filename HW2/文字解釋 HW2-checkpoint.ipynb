{
 "cells": [
  {
   "cell_type": "markdown",
   "metadata": {},
   "source": [
    "叫入numpy, pandas兩個模組，接著請使用者輸入債券價格、面額、票面利率、幾年到期以及付息期間。\n",
    "其中我請使用者輸入1/2/4代表一年/半年/一季付息一次，即可算出每期收到的利息(coupon)"
   ]
  },
  {
   "cell_type": "code",
   "execution_count": null,
   "metadata": {},
   "outputs": [],
   "source": [
    "import numpy as np\n",
    "import pandas as pd\n",
    "bp = int(input('The Bond Price: '))\n",
    "fv = int(input('The Face Value: '))\n",
    "cr = int(input('The Coupon Rate(%): '))\n",
    "y = int(input('Years to Maturity: '))\n",
    "pay = int(input('Payment:annually(1)/semi-annually(2)/quarterly(4). Please insert the number: '))\n",
    "coupon = fv * (cr/pay) * 0.0"
   ]
  },
  {
   "cell_type": "markdown",
   "metadata": {},
   "source": [
    "建立YTM及spot_rate兩個串列以及一個present value初始值0。在迴圈中我們以現金流(cash_flow)算出每期到期的YTM\n",
    "例如價格950、票面利率5%、半年付息一次的債券在第一次半年到期時，可算出YTM=(1025/950)-1，以此類推至輸入的到期年數。\n",
    "我以numpy模組中的irr函數，給定現金流即可計算YTM，相當方便。\n",
    "在spot rate部分我以條件子句判斷，\n",
    "在一年內的即期利率我皆設等於YTM，\n",
    "之後的即期利率用前面已知的spot rate把coupon分別折現累加到pv中，再開n次方回推即可。\n",
    "最後要把這期的折現coupon累加到pv中。"
   ]
  },
  {
   "cell_type": "code",
   "execution_count": null,
   "metadata": {},
   "outputs": [],
   "source": [
    "YTM = [0] * y * pay\n",
    "spot_rate = [0] * y * pay\n",
    "pv = 0\n",
    "for i in range(y*pay):\n",
    "    cash_flow = [bp*-1] + [coupon]*(i) + [coupon + fv]\n",
    "    YTM[i] = np.irr(cash_flow)\n",
    "    if i <= pay-1 :\n",
    "        spot_rate[i] = YTM[i]        \n",
    "    else:\n",
    "        x = (fv + coupon) / (bp - pv)\n",
    "        spot_rate[i] = x**(1/(i+1)) - 1\n",
    "    pv += coupon / (1 + spot_rate[i])**(i+1)"
   ]
  },
  {
   "cell_type": "code",
   "execution_count": null,
   "metadata": {},
   "outputs": [],
   "source": [
    "有了spot rate我們就可以用投影片中的公式算出遠期利率。\n",
    "我建立一個二維串列並跑一個雙層迴圈，在i大於等於j的時候值設為x，否則計算出forward rate。\n",
    "最後用pandas模組的Dataframe函數將結果以表格輸出"
   ]
  },
  {
   "cell_type": "code",
   "execution_count": null,
   "metadata": {},
   "outputs": [],
   "source": [
    "forward_rate = [[0]*y*pay for i in range(y*pay)]\n",
    "for i in range(y*pay):\n",
    "    for j in range(y*pay):\n",
    "        z = ((1+spot_rate[j])**(j+1))/((1+spot_rate[i])**(i+1))\n",
    "        if i >= j:\n",
    "            forward_rate[i][j] = 'x'\n",
    "        else:\n",
    "            forward_rate[i][j] = z**(1/(j-i)) - 1\n",
    "\n",
    "table = pd.DataFrame(forward_rate)\n",
    "print(table)"
   ]
  }
 ],
 "metadata": {
  "kernelspec": {
   "display_name": "Python 3",
   "language": "python",
   "name": "python3"
  },
  "language_info": {
   "codemirror_mode": {
    "name": "ipython",
    "version": 3
   },
   "file_extension": ".py",
   "mimetype": "text/x-python",
   "name": "python",
   "nbconvert_exporter": "python",
   "pygments_lexer": "ipython3",
   "version": "3.7.0"
  }
 },
 "nbformat": 4,
 "nbformat_minor": 2
}
