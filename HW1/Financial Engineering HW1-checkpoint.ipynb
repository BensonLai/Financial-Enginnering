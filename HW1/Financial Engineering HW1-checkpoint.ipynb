{
 "cells": [
  {
   "cell_type": "markdown",
   "metadata": {},
   "source": [
    "Python我透過過去修課與coursera自學，搭配老師上課講義寫此作業。\n",
    "\n",
    "首先叫入numpy和math模組"
   ]
  },
  {
   "cell_type": "code",
   "execution_count": 1,
   "metadata": {},
   "outputs": [],
   "source": [
    "import pandas as pd\n",
    "import math"
   ]
  },
  {
   "cell_type": "markdown",
   "metadata": {},
   "source": [
    "我們要請使用者輸入本金、年數、年利率並將其分別變為整數和浮點數"
   ]
  },
  {
   "cell_type": "code",
   "execution_count": 2,
   "metadata": {},
   "outputs": [
    {
     "name": "stdout",
     "output_type": "stream",
     "text": [
      "請輸入本金: 250000\n",
      "請輸入年數: 15\n",
      "請輸入年利率(%): 8\n"
     ]
    }
   ],
   "source": [
    "x = int(input('請輸入本金: '))\n",
    "y = int(input('請輸入年數: '))\n",
    "r = float(input('請輸入年利率(%): '))"
   ]
  },
  {
   "cell_type": "markdown",
   "metadata": {},
   "source": [
    "計算每期攤還本金並無條件進位，最後一期應繳本金為總本金扣除之前已繳本金的總額"
   ]
  },
  {
   "cell_type": "code",
   "execution_count": 3,
   "metadata": {},
   "outputs": [],
   "source": [
    "c = math.ceil(x/y/12)\n",
    "listc = [c]*y*12\n",
    "listc[y*12-1] = x - c*(y*12-1)"
   ]
  },
  {
   "cell_type": "markdown",
   "metadata": {},
   "source": [
    "為了跑迴圈計算每期應繳利息與累積本金和，我創立listr串列放每期利息、listt放置累積每期本利和，另外創建期數指引串列方便表格呈現"
   ]
  },
  {
   "cell_type": "code",
   "execution_count": null,
   "metadata": {},
   "outputs": [],
   "source": [
    "listr = [0]*y*12\n",
    "listt = [0]*y*12\n",
    "ind = [0]*y*12"
   ]
  },
  {
   "cell_type": "markdown",
   "metadata": {},
   "source": [
    "利用迴圈計算每期利息，第一期直接以本金乘以年利率除12，其後依序扣除已繳本金來計算每期利息\n",
    "其中每期利息我以條件子句四捨五入\n",
    "每期累積本利合則是這期本利和加上上期累積本利和\n",
    "期數指引則讓迴圈數字自動建立"
   ]
  },
  {
   "cell_type": "code",
   "execution_count": null,
   "metadata": {},
   "outputs": [],
   "source": [
    "for i in range(y*12):\n",
    "    listr[i] = (listx[i]-c*i) * r*0.01/12\n",
    "    if listr[i] - int(listr[i])<= 0.4:\n",
    "        listr[i] = int(listr[i])\n",
    "    else:\n",
    "        listr[i] = int(listr[i])+1\n",
    "    listt[i] += listr[i] + listc[i] + listt[i-1]\n",
    "    ind[i] = str('第'+str(i+1)+'期')"
   ]
  },
  {
   "cell_type": "markdown",
   "metadata": {},
   "source": [
    "最後我將listc, listr, listt三個串列分別以pandas模組變成dataframe，再將三者合併整個表格印出"
   ]
  },
  {
   "cell_type": "code",
   "execution_count": null,
   "metadata": {},
   "outputs": [],
   "source": [
    "c1 = pd.DataFrame(listc, columns=[\"本金(元)\"], index=ind)\n",
    "c2 = pd.DataFrame(listr, columns=[\"利息(元)\"], index=ind)\n",
    "c3 = pd.DataFrame(listt, columns=[\"本金利息累計(元)\"], index=ind)\n",
    "df = pd.concat([c1,c2,c3], axis=1)\n",
    "print(df)"
   ]
  }
 ],
 "metadata": {
  "kernelspec": {
   "display_name": "Python 3",
   "language": "python",
   "name": "python3"
  },
  "language_info": {
   "codemirror_mode": {
    "name": "ipython",
    "version": 3
   },
   "file_extension": ".py",
   "mimetype": "text/x-python",
   "name": "python",
   "nbconvert_exporter": "python",
   "pygments_lexer": "ipython3",
   "version": "3.7.0"
  }
 },
 "nbformat": 4,
 "nbformat_minor": 2
}
